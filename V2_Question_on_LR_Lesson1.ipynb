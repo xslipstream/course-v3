{
  "nbformat": 4,
  "nbformat_minor": 0,
  "metadata": {
    "colab": {
      "name": "V2_Question_on_LR_Lesson1.ipynb",
      "provenance": [],
      "collapsed_sections": [],
      "include_colab_link": true
    },
    "kernelspec": {
      "name": "python3",
      "display_name": "Python 3"
    }
  },
  "cells": [
    {
      "cell_type": "markdown",
      "metadata": {
        "id": "view-in-github",
        "colab_type": "text"
      },
      "source": [
        "<a href=\"https://colab.research.google.com/github/xslipstream/course-v3/blob/master/V2_Question_on_LR_Lesson1.ipynb\" target=\"_parent\"><img src=\"https://colab.research.google.com/assets/colab-badge.svg\" alt=\"Open In Colab\"/></a>"
      ]
    },
    {
      "cell_type": "code",
      "metadata": {
        "id": "TvHOHoZIpiay",
        "colab_type": "code",
        "colab": {}
      },
      "source": [
        "data = ImageDataBunch.from_name_re(path_img, filenames, pat, ds_tfms=get_transforms(),\n",
        "                                   size=299, bs=bs//2).normalize(imagenet_stats)"
      ],
      "execution_count": 0,
      "outputs": []
    },
    {
      "cell_type": "code",
      "metadata": {
        "id": "ZjubrcXyn88R",
        "colab_type": "code",
        "outputId": "daaacf10-a1a9-4b0f-8cf9-5251137bf0e8",
        "colab": {
          "base_uri": "https://localhost:8080/",
          "height": 74
        }
      },
      "source": [
        "# Try using resnet50\n",
        "learn = cnn_learner(data, models.resnet50, metrics=error_rate)"
      ],
      "execution_count": 0,
      "outputs": [
        {
          "output_type": "stream",
          "text": [
            "Downloading: \"https://download.pytorch.org/models/resnet50-19c8e357.pth\" to /root/.cache/torch/checkpoints/resnet50-19c8e357.pth\n",
            "100%|██████████| 97.8M/97.8M [00:04<00:00, 22.1MB/s]\n"
          ],
          "name": "stderr"
        }
      ]
    },
    {
      "cell_type": "code",
      "metadata": {
        "id": "QHbhAEMYpdCa",
        "colab_type": "code",
        "outputId": "7fdf8b82-5b90-4e93-95e6-8a4ea9388509",
        "colab": {
          "base_uri": "https://localhost:8080/",
          "height": 301
        }
      },
      "source": [
        "learn.lr_find()\n",
        "learn.recorder.plot()"
      ],
      "execution_count": 0,
      "outputs": [
        {
          "output_type": "display_data",
          "data": {
            "text/html": [
              ""
            ],
            "text/plain": [
              "<IPython.core.display.HTML object>"
            ]
          },
          "metadata": {
            "tags": []
          }
        },
        {
          "output_type": "stream",
          "text": [
            "LR Finder is complete, type {learner_name}.recorder.plot() to see the graph.\n"
          ],
          "name": "stdout"
        },
        {
          "output_type": "display_data",
          "data": {
            "image/png": "[encoded data removed]",
            "text/plain": [
              "<Figure size 432x288 with 1 Axes>"
            ]
          },
          "metadata": {
            "tags": []
          }
        }
      ]
    },
    {
      "cell_type": "code",
      "metadata": {
        "id": "lBuuPv2Cptc5",
        "colab_type": "code",
        "outputId": "4787151f-1f59-41ae-84ed-d27e9f7b213e",
        "colab": {
          "base_uri": "https://localhost:8080/",
          "height": 288
        }
      },
      "source": [
        "learn.fit_one_cycle(8)"
      ],
      "execution_count": 0,
      "outputs": [
        {
          "output_type": "display_data",
          "data": {
            "text/html": [
              "<table border=\"1\" class=\"dataframe\">\n",
              "  <thead>\n",
              "    <tr style=\"text-align: left;\">\n",
              "      <th>epoch</th>\n",
              "      <th>train_loss</th>\n",
              "      <th>valid_loss</th>\n",
              "      <th>error_rate</th>\n",
              "      <th>time</th>\n",
              "    </tr>\n",
              "  </thead>\n",
              "  <tbody>\n",
              "    <tr>\n",
              "      <td>0</td>\n",
              "      <td>0.740480</td>\n",
              "      <td>0.301604</td>\n",
              "      <td>0.092016</td>\n",
              "      <td>03:22</td>\n",
              "    </tr>\n",
              "    <tr>\n",
              "      <td>1</td>\n",
              "      <td>0.585055</td>\n",
              "      <td>0.290550</td>\n",
              "      <td>0.092016</td>\n",
              "      <td>03:17</td>\n",
              "    </tr>\n",
              "    <tr>\n",
              "      <td>2</td>\n",
              "      <td>0.423294</td>\n",
              "      <td>0.292395</td>\n",
              "      <td>0.090663</td>\n",
              "      <td>03:17</td>\n",
              "    </tr>\n",
              "    <tr>\n",
              "      <td>3</td>\n",
              "      <td>0.337413</td>\n",
              "      <td>0.244130</td>\n",
              "      <td>0.073748</td>\n",
              "      <td>03:17</td>\n",
              "    </tr>\n",
              "    <tr>\n",
              "      <td>4</td>\n",
              "      <td>0.249212</td>\n",
              "      <td>0.190877</td>\n",
              "      <td>0.060893</td>\n",
              "      <td>03:17</td>\n",
              "    </tr>\n",
              "    <tr>\n",
              "      <td>5</td>\n",
              "      <td>0.172948</td>\n",
              "      <td>0.175507</td>\n",
              "      <td>0.051421</td>\n",
              "      <td>03:18</td>\n",
              "    </tr>\n",
              "    <tr>\n",
              "      <td>6</td>\n",
              "      <td>0.121764</td>\n",
              "      <td>0.169460</td>\n",
              "      <td>0.048038</td>\n",
              "      <td>03:18</td>\n",
              "    </tr>\n",
              "    <tr>\n",
              "      <td>7</td>\n",
              "      <td>0.106039</td>\n",
              "      <td>0.160510</td>\n",
              "      <td>0.046008</td>\n",
              "      <td>03:18</td>\n",
              "    </tr>\n",
              "  </tbody>\n",
              "</table>"
            ],
            "text/plain": [
              "<IPython.core.display.HTML object>"
            ]
          },
          "metadata": {
            "tags": []
          }
        }
      ]
    },
    {
      "cell_type": "code",
      "metadata": {
        "id": "Ph-uIUVaqag9",
        "colab_type": "code",
        "colab": {}
      },
      "source": [
        "learn.save('stage-1-50v1')"
      ],
      "execution_count": 0,
      "outputs": []
    },
    {
      "cell_type": "code",
      "metadata": {
        "id": "dV9NUI9-tvgh",
        "colab_type": "code",
        "outputId": "e0695a8e-1eeb-4229-83b6-46fa3f4c222b",
        "colab": {
          "base_uri": "https://localhost:8080/",
          "height": 301
        }
      },
      "source": [
        "# Let's run lr find again and see what it looks like now\n",
        "# LR # 2\n",
        "learn.lr_find()\n",
        "learn.recorder.plot()\n"
      ],
      "execution_count": 0,
      "outputs": [
        {
          "output_type": "display_data",
          "data": {
            "text/html": [
              ""
            ],
            "text/plain": [
              "<IPython.core.display.HTML object>"
            ]
          },
          "metadata": {
            "tags": []
          }
        },
        {
          "output_type": "stream",
          "text": [
            "LR Finder is complete, type {learner_name}.recorder.plot() to see the graph.\n"
          ],
          "name": "stdout"
        },
        {
          "output_type": "display_data",
          "data": {
            "image/png": "[encoded data removed]",
            "text/plain": [
              "<Figure size 432x288 with 1 Axes>"
            ]
          },
          "metadata": {
            "tags": []
          }
        }
      ]
    },
    {
      "cell_type": "markdown",
      "metadata": {
        "id": "au2Cl13p5Bdr",
        "colab_type": "text"
      },
      "source": [
        "### I think my fine-tune attempts here are only training the later layers because I already fitted the model once before I unfreeze.\n",
        "\n",
        "I should've ran lr_find(), found a lr range, and THEN I unfreeze so my first fit_one_cycle() is taking account into my selected learning rate range"
      ]
    },
    {
      "cell_type": "markdown",
      "metadata": {
        "id": "yLvnLugpa_AO",
        "colab_type": "text"
      },
      "source": [
        "# **Fine-tune Attempt #1: Deepest Slope**\n",
        "le-4 to le-2 appears to have the deepest decreasing slope but results are bad"
      ]
    },
    {
      "cell_type": "code",
      "metadata": {
        "id": "WkVMr4BZ4lP-",
        "colab_type": "code",
        "outputId": "fc9720a3-8013-46d9-b508-7c8850642dea",
        "colab": {
          "base_uri": "https://localhost:8080/",
          "height": 138
        }
      },
      "source": [
        "learn.unfreeze()\n",
        "learn.fit_one_cycle(3, max_lr=slice(1e-4,1e-2))"
      ],
      "execution_count": 0,
      "outputs": [
        {
          "output_type": "display_data",
          "data": {
            "text/html": [
              "<table border=\"1\" class=\"dataframe\">\n",
              "  <thead>\n",
              "    <tr style=\"text-align: left;\">\n",
              "      <th>epoch</th>\n",
              "      <th>train_loss</th>\n",
              "      <th>valid_loss</th>\n",
              "      <th>error_rate</th>\n",
              "      <th>time</th>\n",
              "    </tr>\n",
              "  </thead>\n",
              "  <tbody>\n",
              "    <tr>\n",
              "      <td>0</td>\n",
              "      <td>2.200405</td>\n",
              "      <td>2.448116</td>\n",
              "      <td>0.512179</td>\n",
              "      <td>04:21</td>\n",
              "    </tr>\n",
              "    <tr>\n",
              "      <td>1</td>\n",
              "      <td>1.036613</td>\n",
              "      <td>0.514262</td>\n",
              "      <td>0.164411</td>\n",
              "      <td>04:17</td>\n",
              "    </tr>\n",
              "    <tr>\n",
              "      <td>2</td>\n",
              "      <td>0.454411</td>\n",
              "      <td>0.329967</td>\n",
              "      <td>0.108254</td>\n",
              "      <td>04:16</td>\n",
              "    </tr>\n",
              "  </tbody>\n",
              "</table>"
            ],
            "text/plain": [
              "<IPython.core.display.HTML object>"
            ]
          },
          "metadata": {
            "tags": []
          }
        }
      ]
    },
    {
      "cell_type": "markdown",
      "metadata": {
        "id": "xlzyxsmwdBsB",
        "colab_type": "text"
      },
      "source": [
        "# **Fine-Tune Attempt 2**\n",
        "Followed the course’s lr.  Best results in all 3 cycles."
      ]
    },
    {
      "cell_type": "code",
      "metadata": {
        "id": "SF3hmgVO82az",
        "colab_type": "code",
        "outputId": "e32f77ec-13c4-41bc-ced9-e1a1b0216d5e",
        "colab": {
          "base_uri": "https://localhost:8080/",
          "height": 138
        }
      },
      "source": [
        "learn.load('stage-1-50v1')\n",
        "learn.unfreeze()\n",
        "learn.fit_one_cycle(3, max_lr=slice(1e-6,1e-4))"
      ],
      "execution_count": 0,
      "outputs": [
        {
          "output_type": "display_data",
          "data": {
            "text/html": [
              "<table border=\"1\" class=\"dataframe\">\n",
              "  <thead>\n",
              "    <tr style=\"text-align: left;\">\n",
              "      <th>epoch</th>\n",
              "      <th>train_loss</th>\n",
              "      <th>valid_loss</th>\n",
              "      <th>error_rate</th>\n",
              "      <th>time</th>\n",
              "    </tr>\n",
              "  </thead>\n",
              "  <tbody>\n",
              "    <tr>\n",
              "      <td>0</td>\n",
              "      <td>0.112840</td>\n",
              "      <td>0.163775</td>\n",
              "      <td>0.050744</td>\n",
              "      <td>04:16</td>\n",
              "    </tr>\n",
              "    <tr>\n",
              "      <td>1</td>\n",
              "      <td>0.096250</td>\n",
              "      <td>0.152789</td>\n",
              "      <td>0.042625</td>\n",
              "      <td>04:17</td>\n",
              "    </tr>\n",
              "    <tr>\n",
              "      <td>2</td>\n",
              "      <td>0.082140</td>\n",
              "      <td>0.153572</td>\n",
              "      <td>0.044655</td>\n",
              "      <td>04:16</td>\n",
              "    </tr>\n",
              "  </tbody>\n",
              "</table>"
            ],
            "text/plain": [
              "<IPython.core.display.HTML object>"
            ]
          },
          "metadata": {
            "tags": []
          }
        }
      ]
    },
    {
      "cell_type": "markdown",
      "metadata": {
        "id": "1GX35TYidiCP",
        "colab_type": "text"
      },
      "source": [
        "# **Fine-Tune Attempt 3**\n",
        "Tried to increase the end LR to le-3.  Although the final result is just as good as attempt #2, why is cycle #1 worst?  How should I be selecting learning rates for best results?"
      ]
    },
    {
      "cell_type": "code",
      "metadata": {
        "id": "FjQaT1RZ4zfd",
        "colab_type": "code",
        "colab": {}
      },
      "source": [
        "learn.load('stage-1-50v1');"
      ],
      "execution_count": 0,
      "outputs": []
    },
    {
      "cell_type": "code",
      "metadata": {
        "id": "bRrqYKAb8jBt",
        "colab_type": "code",
        "outputId": "64dc41ab-d363-4436-e2f0-64ebaca1d9ad",
        "colab": {
          "base_uri": "https://localhost:8080/",
          "height": 138
        }
      },
      "source": [
        "learn.unfreeze()\n",
        "learn.fit_one_cycle(3, max_lr=slice(1e-6,1e-3))"
      ],
      "execution_count": 0,
      "outputs": [
        {
          "output_type": "display_data",
          "data": {
            "text/html": [
              "<table border=\"1\" class=\"dataframe\">\n",
              "  <thead>\n",
              "    <tr style=\"text-align: left;\">\n",
              "      <th>epoch</th>\n",
              "      <th>train_loss</th>\n",
              "      <th>valid_loss</th>\n",
              "      <th>error_rate</th>\n",
              "      <th>time</th>\n",
              "    </tr>\n",
              "  </thead>\n",
              "  <tbody>\n",
              "    <tr>\n",
              "      <td>0</td>\n",
              "      <td>0.180241</td>\n",
              "      <td>0.212536</td>\n",
              "      <td>0.065629</td>\n",
              "      <td>04:16</td>\n",
              "    </tr>\n",
              "    <tr>\n",
              "      <td>1</td>\n",
              "      <td>0.157091</td>\n",
              "      <td>0.204099</td>\n",
              "      <td>0.061570</td>\n",
              "      <td>04:16</td>\n",
              "    </tr>\n",
              "    <tr>\n",
              "      <td>2</td>\n",
              "      <td>0.091124</td>\n",
              "      <td>0.172384</td>\n",
              "      <td>0.053451</td>\n",
              "      <td>04:14</td>\n",
              "    </tr>\n",
              "  </tbody>\n",
              "</table>"
            ],
            "text/plain": [
              "<IPython.core.display.HTML object>"
            ]
          },
          "metadata": {
            "tags": []
          }
        }
      ]
    },
    {
      "cell_type": "markdown",
      "metadata": {
        "colab_type": "text",
        "id": "bK3nz5hKm7jf"
      },
      "source": [
        "# **Fine-Tune Attempt 4**\n",
        "Using Ray's suggestion 1e-3 to 1e-1"
      ]
    },
    {
      "cell_type": "code",
      "metadata": {
        "colab_type": "code",
        "id": "XYwom5Nam7jr",
        "colab": {}
      },
      "source": [
        "learn.load('stage-1-50v1');"
      ],
      "execution_count": 0,
      "outputs": []
    },
    {
      "cell_type": "code",
      "metadata": {
        "colab_type": "code",
        "outputId": "c8e9fb76-7e65-4045-e5d6-c4c8cda046cc",
        "id": "jD04Qzlzm7j5",
        "colab": {
          "base_uri": "https://localhost:8080/",
          "height": 138
        }
      },
      "source": [
        "learn.unfreeze()\n",
        "learn.fit_one_cycle(3, max_lr=slice(1e-3,1e-1))"
      ],
      "execution_count": 0,
      "outputs": [
        {
          "output_type": "display_data",
          "data": {
            "text/html": [
              "<table border=\"1\" class=\"dataframe\">\n",
              "  <thead>\n",
              "    <tr style=\"text-align: left;\">\n",
              "      <th>epoch</th>\n",
              "      <th>train_loss</th>\n",
              "      <th>valid_loss</th>\n",
              "      <th>error_rate</th>\n",
              "      <th>time</th>\n",
              "    </tr>\n",
              "  </thead>\n",
              "  <tbody>\n",
              "    <tr>\n",
              "      <td>0</td>\n",
              "      <td>6.167770</td>\n",
              "      <td>272107.937500</td>\n",
              "      <td>0.970907</td>\n",
              "      <td>04:15</td>\n",
              "    </tr>\n",
              "    <tr>\n",
              "      <td>1</td>\n",
              "      <td>5.732313</td>\n",
              "      <td>271.788452</td>\n",
              "      <td>0.972260</td>\n",
              "      <td>04:14</td>\n",
              "    </tr>\n",
              "    <tr>\n",
              "      <td>2</td>\n",
              "      <td>3.839888</td>\n",
              "      <td>1343.193237</td>\n",
              "      <td>0.958728</td>\n",
              "      <td>04:14</td>\n",
              "    </tr>\n",
              "  </tbody>\n",
              "</table>"
            ],
            "text/plain": [
              "<IPython.core.display.HTML object>"
            ]
          },
          "metadata": {
            "tags": []
          }
        }
      ]
    },
    {
      "cell_type": "markdown",
      "metadata": {
        "id": "SnJId17O6BTw",
        "colab_type": "text"
      },
      "source": [
        "# **Let's try this again.  This time I will unfreeze the entire model before my first fit and fine-tune right from the start**"
      ]
    },
    {
      "cell_type": "code",
      "metadata": {
        "colab_type": "code",
        "id": "QXpCn2Dp6Rt4",
        "colab": {}
      },
      "source": [
        "data = ImageDataBunch.from_name_re(path_img, filenames, pat, ds_tfms=get_transforms(),\n",
        "                                   size=299, bs=bs//2).normalize(imagenet_stats)"
      ],
      "execution_count": 0,
      "outputs": []
    },
    {
      "cell_type": "code",
      "metadata": {
        "colab_type": "code",
        "id": "-C2RXzmJ6Rua",
        "colab": {}
      },
      "source": [
        "# Try using resnet50\n",
        "learn2 = cnn_learner(data, models.resnet50, metrics=error_rate)"
      ],
      "execution_count": 0,
      "outputs": []
    },
    {
      "cell_type": "code",
      "metadata": {
        "colab_type": "code",
        "outputId": "81c1aab3-c87b-4b6d-f9fe-e99e86e97c06",
        "id": "iYdbv7XY6Ruh",
        "colab": {
          "base_uri": "https://localhost:8080/",
          "height": 301
        }
      },
      "source": [
        "learn2.lr_find()\n",
        "learn2.recorder.plot()"
      ],
      "execution_count": 0,
      "outputs": [
        {
          "output_type": "display_data",
          "data": {
            "text/html": [
              ""
            ],
            "text/plain": [
              "<IPython.core.display.HTML object>"
            ]
          },
          "metadata": {
            "tags": []
          }
        },
        {
          "output_type": "stream",
          "text": [
            "LR Finder is complete, type {learner_name}.recorder.plot() to see the graph.\n"
          ],
          "name": "stdout"
        },
        {
          "output_type": "display_data",
          "data": {
            "image/png": "[encoded data removed]",
            "text/plain": [
              "<Figure size 432x288 with 1 Axes>"
            ]
          },
          "metadata": {
            "tags": []
          }
        }
      ]
    },
    {
      "cell_type": "code",
      "metadata": {
        "id": "D3jflcpj6jK-",
        "colab_type": "code",
        "colab": {}
      },
      "source": [
        "learn2.save('stage1-50-v2')"
      ],
      "execution_count": 0,
      "outputs": []
    },
    {
      "cell_type": "markdown",
      "metadata": {
        "id": "O86mYbBp63jv",
        "colab_type": "text"
      },
      "source": [
        "## Using Jeremy's LR ##"
      ]
    },
    {
      "cell_type": "code",
      "metadata": {
        "id": "TTKYgomA6X3V",
        "colab_type": "code",
        "outputId": "d153ee9e-7251-4808-f11f-7b4d46b2f018",
        "colab": {
          "base_uri": "https://localhost:8080/",
          "height": 138
        }
      },
      "source": [
        "learn2.unfreeze()\n",
        "learn2.fit_one_cycle(3, max_lr=slice(1e-6,1e-4))"
      ],
      "execution_count": 0,
      "outputs": [
        {
          "output_type": "display_data",
          "data": {
            "text/html": [
              "<table border=\"1\" class=\"dataframe\">\n",
              "  <thead>\n",
              "    <tr style=\"text-align: left;\">\n",
              "      <th>epoch</th>\n",
              "      <th>train_loss</th>\n",
              "      <th>valid_loss</th>\n",
              "      <th>error_rate</th>\n",
              "      <th>time</th>\n",
              "    </tr>\n",
              "  </thead>\n",
              "  <tbody>\n",
              "    <tr>\n",
              "      <td>0</td>\n",
              "      <td>1.779356</td>\n",
              "      <td>0.395085</td>\n",
              "      <td>0.113667</td>\n",
              "      <td>04:16</td>\n",
              "    </tr>\n",
              "    <tr>\n",
              "      <td>1</td>\n",
              "      <td>0.595152</td>\n",
              "      <td>0.235820</td>\n",
              "      <td>0.077808</td>\n",
              "      <td>04:16</td>\n",
              "    </tr>\n",
              "    <tr>\n",
              "      <td>2</td>\n",
              "      <td>0.393504</td>\n",
              "      <td>0.223573</td>\n",
              "      <td>0.074425</td>\n",
              "      <td>04:16</td>\n",
              "    </tr>\n",
              "  </tbody>\n",
              "</table>"
            ],
            "text/plain": [
              "<IPython.core.display.HTML object>"
            ]
          },
          "metadata": {
            "tags": []
          }
        }
      ]
    },
    {
      "cell_type": "markdown",
      "metadata": {
        "id": "a5Sf0d477C-T",
        "colab_type": "text"
      },
      "source": [
        "## Using what I think ##"
      ]
    },
    {
      "cell_type": "code",
      "metadata": {
        "id": "HCXt12DB7FSR",
        "colab_type": "code",
        "outputId": "263b776a-9d27-4c14-9fa2-aa5779dd9abc",
        "colab": {
          "base_uri": "https://localhost:8080/",
          "height": 138
        }
      },
      "source": [
        "learn2.load('stage1-50-v2')\n",
        "learn2.unfreeze()\n",
        "learn2.fit_one_cycle(3, max_lr=slice(1e-4,1e-2))"
      ],
      "execution_count": 0,
      "outputs": [
        {
          "output_type": "display_data",
          "data": {
            "text/html": [
              "<table border=\"1\" class=\"dataframe\">\n",
              "  <thead>\n",
              "    <tr style=\"text-align: left;\">\n",
              "      <th>epoch</th>\n",
              "      <th>train_loss</th>\n",
              "      <th>valid_loss</th>\n",
              "      <th>error_rate</th>\n",
              "      <th>time</th>\n",
              "    </tr>\n",
              "  </thead>\n",
              "  <tbody>\n",
              "    <tr>\n",
              "      <td>0</td>\n",
              "      <td>2.241324</td>\n",
              "      <td>3.753330</td>\n",
              "      <td>0.563599</td>\n",
              "      <td>04:16</td>\n",
              "    </tr>\n",
              "    <tr>\n",
              "      <td>1</td>\n",
              "      <td>1.167727</td>\n",
              "      <td>0.572722</td>\n",
              "      <td>0.182679</td>\n",
              "      <td>04:16</td>\n",
              "    </tr>\n",
              "    <tr>\n",
              "      <td>2</td>\n",
              "      <td>0.512363</td>\n",
              "      <td>0.319203</td>\n",
              "      <td>0.101489</td>\n",
              "      <td>04:17</td>\n",
              "    </tr>\n",
              "  </tbody>\n",
              "</table>"
            ],
            "text/plain": [
              "<IPython.core.display.HTML object>"
            ]
          },
          "metadata": {
            "tags": []
          }
        }
      ]
    },
    {
      "cell_type": "markdown",
      "metadata": {
        "id": "LOnkvf6V7FwK",
        "colab_type": "text"
      },
      "source": [
        "## Using Ray's suggestion ##"
      ]
    },
    {
      "cell_type": "code",
      "metadata": {
        "id": "n22GeW937Ix4",
        "colab_type": "code",
        "outputId": "dc7ebf14-2617-41cf-d02f-fd9e3c898e17",
        "colab": {
          "base_uri": "https://localhost:8080/",
          "height": 138
        }
      },
      "source": [
        "learn2.load('stage1-50-v2')\n",
        "learn2.unfreeze()\n",
        "learn2.fit_one_cycle(3, max_lr=slice(1e-3,1e-1))"
      ],
      "execution_count": 0,
      "outputs": [
        {
          "output_type": "display_data",
          "data": {
            "text/html": [
              "<table border=\"1\" class=\"dataframe\">\n",
              "  <thead>\n",
              "    <tr style=\"text-align: left;\">\n",
              "      <th>epoch</th>\n",
              "      <th>train_loss</th>\n",
              "      <th>valid_loss</th>\n",
              "      <th>error_rate</th>\n",
              "      <th>time</th>\n",
              "    </tr>\n",
              "  </thead>\n",
              "  <tbody>\n",
              "    <tr>\n",
              "      <td>0</td>\n",
              "      <td>6.648335</td>\n",
              "      <td>5092.877441</td>\n",
              "      <td>0.962788</td>\n",
              "      <td>04:18</td>\n",
              "    </tr>\n",
              "    <tr>\n",
              "      <td>1</td>\n",
              "      <td>5.641720</td>\n",
              "      <td>1175.564209</td>\n",
              "      <td>0.953315</td>\n",
              "      <td>04:17</td>\n",
              "    </tr>\n",
              "    <tr>\n",
              "      <td>2</td>\n",
              "      <td>3.777241</td>\n",
              "      <td>400.749146</td>\n",
              "      <td>0.941813</td>\n",
              "      <td>04:17</td>\n",
              "    </tr>\n",
              "  </tbody>\n",
              "</table>"
            ],
            "text/plain": [
              "<IPython.core.display.HTML object>"
            ]
          },
          "metadata": {
            "tags": []
          }
        }
      ]
    }
  ]
}