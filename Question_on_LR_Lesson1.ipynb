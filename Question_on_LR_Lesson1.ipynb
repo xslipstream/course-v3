{
  "nbformat": 4,
  "nbformat_minor": 0,
  "metadata": {
    "colab": {
      "name": "Question on LR-Lesson1.ipynb",
      "provenance": [],
      "include_colab_link": true
    },
    "kernelspec": {
      "name": "python3",
      "display_name": "Python 3"
    }
  },
  "cells": [
    {
      "cell_type": "markdown",
      "metadata": {
        "id": "view-in-github",
        "colab_type": "text"
      },
      "source": [
        "<a href=\"https://colab.research.google.com/github/xslipstream/course-v3/blob/master/Question_on_LR_Lesson1.ipynb\" target=\"_parent\"><img src=\"https://colab.research.google.com/assets/colab-badge.svg\" alt=\"Open In Colab\"/></a>"
      ]
    },
    {
      "cell_type": "code",
      "metadata": {
        "id": "TvHOHoZIpiay",
        "colab_type": "code",
        "colab": {}
      },
      "source": [
        "data = ImageDataBunch.from_name_re(path_img, filenames, pat, ds_tfms=get_transforms(),\n",
        "                                   size=299, bs=bs//2).normalize(imagenet_stats)"
      ],
      "execution_count": 0,
      "outputs": []
    },
    {
      "cell_type": "code",
      "metadata": {
        "id": "ZjubrcXyn88R",
        "colab_type": "code",
        "colab": {}
      },
      "source": [
        "# Try using resnet50\n",
        "learn = cnn_learner(data, models.resnet50, metrics=error_rate)"
      ],
      "execution_count": 0,
      "outputs": []
    },
    {
      "cell_type": "code",
      "metadata": {
        "id": "QHbhAEMYpdCa",
        "colab_type": "code",
        "outputId": "7a260638-b54c-4a56-c535-1451b7ff1648",
        "colab": {
          "base_uri": "https://localhost:8080/",
          "height": 301
        }
      },
      "source": [
        "learn.lr_find()\n",
        "learn.recorder.plot()"
      ],
      "execution_count": 0,
      "outputs": [
        {
          "output_type": "display_data",
          "data": {
            "text/html": [
              ""
            ],
            "text/plain": [
              "<IPython.core.display.HTML object>"
            ]
          },
          "metadata": {
            "tags": []
          }
        },
        {
          "output_type": "stream",
          "text": [
            "LR Finder is complete, type {learner_name}.recorder.plot() to see the graph.\n"
          ],
          "name": "stdout"
        },
        {
          "output_type": "display_data",
          "data": {
            "image/png": "[encoded data removed]",
            "text/plain": [
              "<Figure size 432x288 with 1 Axes>"
            ]
          },
          "metadata": {
            "tags": []
          }
        }
      ]
    },
    {
      "cell_type": "code",
      "metadata": {
        "id": "lBuuPv2Cptc5",
        "colab_type": "code",
        "outputId": "e67eee3a-2027-4993-a399-6cf6b56327a0",
        "colab": {
          "base_uri": "https://localhost:8080/",
          "height": 288
        }
      },
      "source": [
        "learn.fit_one_cycle(8)"
      ],
      "execution_count": 0,
      "outputs": [
        {
          "output_type": "display_data",
          "data": {
            "text/html": [
              "<table border=\"1\" class=\"dataframe\">\n",
              "  <thead>\n",
              "    <tr style=\"text-align: left;\">\n",
              "      <th>epoch</th>\n",
              "      <th>train_loss</th>\n",
              "      <th>valid_loss</th>\n",
              "      <th>error_rate</th>\n",
              "      <th>time</th>\n",
              "    </tr>\n",
              "  </thead>\n",
              "  <tbody>\n",
              "    <tr>\n",
              "      <td>0</td>\n",
              "      <td>0.733227</td>\n",
              "      <td>0.295890</td>\n",
              "      <td>0.104871</td>\n",
              "      <td>03:11</td>\n",
              "    </tr>\n",
              "    <tr>\n",
              "      <td>1</td>\n",
              "      <td>0.584867</td>\n",
              "      <td>0.243431</td>\n",
              "      <td>0.079838</td>\n",
              "      <td>03:12</td>\n",
              "    </tr>\n",
              "    <tr>\n",
              "      <td>2</td>\n",
              "      <td>0.403213</td>\n",
              "      <td>0.274884</td>\n",
              "      <td>0.084574</td>\n",
              "      <td>03:12</td>\n",
              "    </tr>\n",
              "    <tr>\n",
              "      <td>3</td>\n",
              "      <td>0.350414</td>\n",
              "      <td>0.239174</td>\n",
              "      <td>0.073072</td>\n",
              "      <td>03:13</td>\n",
              "    </tr>\n",
              "    <tr>\n",
              "      <td>4</td>\n",
              "      <td>0.224792</td>\n",
              "      <td>0.192620</td>\n",
              "      <td>0.061570</td>\n",
              "      <td>03:13</td>\n",
              "    </tr>\n",
              "    <tr>\n",
              "      <td>5</td>\n",
              "      <td>0.179458</td>\n",
              "      <td>0.198909</td>\n",
              "      <td>0.062246</td>\n",
              "      <td>03:13</td>\n",
              "    </tr>\n",
              "    <tr>\n",
              "      <td>6</td>\n",
              "      <td>0.125654</td>\n",
              "      <td>0.155275</td>\n",
              "      <td>0.047361</td>\n",
              "      <td>03:12</td>\n",
              "    </tr>\n",
              "    <tr>\n",
              "      <td>7</td>\n",
              "      <td>0.114076</td>\n",
              "      <td>0.151692</td>\n",
              "      <td>0.046685</td>\n",
              "      <td>03:11</td>\n",
              "    </tr>\n",
              "  </tbody>\n",
              "</table>"
            ],
            "text/plain": [
              "<IPython.core.display.HTML object>"
            ]
          },
          "metadata": {
            "tags": []
          }
        }
      ]
    },
    {
      "cell_type": "code",
      "metadata": {
        "id": "Ph-uIUVaqag9",
        "colab_type": "code",
        "colab": {}
      },
      "source": [
        "learn.save('stage-1-50v1')"
      ],
      "execution_count": 0,
      "outputs": []
    },
    {
      "cell_type": "markdown",
      "metadata": {
        "id": "yLvnLugpa_AO",
        "colab_type": "text"
      },
      "source": [
        "# **Fine-tune Attempt #1: Deepest Slope**\n",
        "le-4 to le-2 appears to have the deepest decreasing slope but results are bad"
      ]
    },
    {
      "cell_type": "code",
      "metadata": {
        "id": "WkVMr4BZ4lP-",
        "colab_type": "code",
        "outputId": "1252a7f2-e3db-46fe-fb7d-9e8c9b3ed306",
        "colab": {
          "base_uri": "https://localhost:8080/",
          "height": 138
        }
      },
      "source": [
        "learn.unfreeze()\n",
        "learn.fit_one_cycle(3, max_lr=slice(1e-4,1e-2))"
      ],
      "execution_count": 0,
      "outputs": [
        {
          "output_type": "display_data",
          "data": {
            "text/html": [
              "<table border=\"1\" class=\"dataframe\">\n",
              "  <thead>\n",
              "    <tr style=\"text-align: left;\">\n",
              "      <th>epoch</th>\n",
              "      <th>train_loss</th>\n",
              "      <th>valid_loss</th>\n",
              "      <th>error_rate</th>\n",
              "      <th>time</th>\n",
              "    </tr>\n",
              "  </thead>\n",
              "  <tbody>\n",
              "    <tr>\n",
              "      <td>0</td>\n",
              "      <td>2.191333</td>\n",
              "      <td>2.231566</td>\n",
              "      <td>0.529770</td>\n",
              "      <td>04:15</td>\n",
              "    </tr>\n",
              "    <tr>\n",
              "      <td>1</td>\n",
              "      <td>1.063339</td>\n",
              "      <td>0.589217</td>\n",
              "      <td>0.177943</td>\n",
              "      <td>04:11</td>\n",
              "    </tr>\n",
              "    <tr>\n",
              "      <td>2</td>\n",
              "      <td>0.464685</td>\n",
              "      <td>0.292842</td>\n",
              "      <td>0.101489</td>\n",
              "      <td>04:11</td>\n",
              "    </tr>\n",
              "  </tbody>\n",
              "</table>"
            ],
            "text/plain": [
              "<IPython.core.display.HTML object>"
            ]
          },
          "metadata": {
            "tags": []
          }
        }
      ]
    },
    {
      "cell_type": "markdown",
      "metadata": {
        "id": "xlzyxsmwdBsB",
        "colab_type": "text"
      },
      "source": [
        "# **Fine-Tune Attempt 2**\n",
        "Followed the course’s lr.  Best results in all 3 cycles."
      ]
    },
    {
      "cell_type": "code",
      "metadata": {
        "id": "SF3hmgVO82az",
        "colab_type": "code",
        "outputId": "49112d9b-713e-4927-e026-b6e8d3ca5b8c",
        "colab": {
          "base_uri": "https://localhost:8080/",
          "height": 138
        }
      },
      "source": [
        "learn.load('stage-1-50v1')\n",
        "learn.unfreeze()\n",
        "learn.fit_one_cycle(3, max_lr=slice(1e-6,1e-4))"
      ],
      "execution_count": 0,
      "outputs": [
        {
          "output_type": "display_data",
          "data": {
            "text/html": [
              "<table border=\"1\" class=\"dataframe\">\n",
              "  <thead>\n",
              "    <tr style=\"text-align: left;\">\n",
              "      <th>epoch</th>\n",
              "      <th>train_loss</th>\n",
              "      <th>valid_loss</th>\n",
              "      <th>error_rate</th>\n",
              "      <th>time</th>\n",
              "    </tr>\n",
              "  </thead>\n",
              "  <tbody>\n",
              "    <tr>\n",
              "      <td>0</td>\n",
              "      <td>0.106489</td>\n",
              "      <td>0.152496</td>\n",
              "      <td>0.048714</td>\n",
              "      <td>04:11</td>\n",
              "    </tr>\n",
              "    <tr>\n",
              "      <td>1</td>\n",
              "      <td>0.102569</td>\n",
              "      <td>0.154926</td>\n",
              "      <td>0.047361</td>\n",
              "      <td>04:12</td>\n",
              "    </tr>\n",
              "    <tr>\n",
              "      <td>2</td>\n",
              "      <td>0.085976</td>\n",
              "      <td>0.148733</td>\n",
              "      <td>0.048714</td>\n",
              "      <td>04:12</td>\n",
              "    </tr>\n",
              "  </tbody>\n",
              "</table>"
            ],
            "text/plain": [
              "<IPython.core.display.HTML object>"
            ]
          },
          "metadata": {
            "tags": []
          }
        }
      ]
    },
    {
      "cell_type": "markdown",
      "metadata": {
        "id": "1GX35TYidiCP",
        "colab_type": "text"
      },
      "source": [
        "# **Fine-Tune Attempt 3**\n",
        "Tried to increase the end LR to le-3.  Although the final result is just as good as attempt #2, why is cycle #1 worst?  How should I be selecting learning rates for best results?"
      ]
    },
    {
      "cell_type": "code",
      "metadata": {
        "id": "FjQaT1RZ4zfd",
        "colab_type": "code",
        "colab": {}
      },
      "source": [
        "learn.load('stage-1-50v1');"
      ],
      "execution_count": 0,
      "outputs": []
    },
    {
      "cell_type": "code",
      "metadata": {
        "id": "bRrqYKAb8jBt",
        "colab_type": "code",
        "outputId": "f9f00b4c-c0f5-4ad6-88a8-c4e94cf29edf",
        "colab": {
          "base_uri": "https://localhost:8080/",
          "height": 138
        }
      },
      "source": [
        "learn.unfreeze()\n",
        "learn.fit_one_cycle(3, max_lr=slice(1e-6,1e-3))"
      ],
      "execution_count": 0,
      "outputs": [
        {
          "output_type": "display_data",
          "data": {
            "text/html": [
              "<table border=\"1\" class=\"dataframe\">\n",
              "  <thead>\n",
              "    <tr style=\"text-align: left;\">\n",
              "      <th>epoch</th>\n",
              "      <th>train_loss</th>\n",
              "      <th>valid_loss</th>\n",
              "      <th>error_rate</th>\n",
              "      <th>time</th>\n",
              "    </tr>\n",
              "  </thead>\n",
              "  <tbody>\n",
              "    <tr>\n",
              "      <td>0</td>\n",
              "      <td>0.177483</td>\n",
              "      <td>0.231494</td>\n",
              "      <td>0.065629</td>\n",
              "      <td>04:10</td>\n",
              "    </tr>\n",
              "    <tr>\n",
              "      <td>1</td>\n",
              "      <td>0.141378</td>\n",
              "      <td>0.166195</td>\n",
              "      <td>0.045332</td>\n",
              "      <td>04:11</td>\n",
              "    </tr>\n",
              "    <tr>\n",
              "      <td>2</td>\n",
              "      <td>0.087983</td>\n",
              "      <td>0.160209</td>\n",
              "      <td>0.048714</td>\n",
              "      <td>04:11</td>\n",
              "    </tr>\n",
              "  </tbody>\n",
              "</table>"
            ],
            "text/plain": [
              "<IPython.core.display.HTML object>"
            ]
          },
          "metadata": {
            "tags": []
          }
        }
      ]
    }
  ]
}